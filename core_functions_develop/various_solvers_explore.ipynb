{
 "cells": [
  {
   "cell_type": "code",
   "execution_count": 218,
   "metadata": {},
   "outputs": [],
   "source": [
    "import pandas as pd\n",
    "import string\n",
    "from english_words import get_english_words_set"
   ]
  },
  {
   "cell_type": "code",
   "execution_count": 219,
   "metadata": {},
   "outputs": [],
   "source": [
    "def unused_letters(must_have, may_have):\n",
    "    \"\"\"\n",
    "    Coded in part by ChatGPT on 4/20/2023\n",
    "\n",
    "    Returns a list of letters that were not called out.\n",
    "    \n",
    "    Args:\n",
    "    called_out (list): A list of letters that were called out.\n",
    "    \n",
    "    Returns:\n",
    "    unused (list): A list of letters that were not called out.\n",
    "    \"\"\"\n",
    "    called_out = must_have[0] + may_have[0]\n",
    "\n",
    "    letters = list('abcdefghijklmnopqrstuvwxyz')\n",
    "    unused = []\n",
    "    for letter in letters:\n",
    "        if letter not in called_out:\n",
    "            unused.append(letter)\n",
    "    return [''.join(unused)]\n"
   ]
  },
  {
   "cell_type": "code",
   "execution_count": 220,
   "metadata": {},
   "outputs": [],
   "source": [
    "def filter_words(required_letters, forbidden_letters, first_letter, sort_order, list_len):\n",
    "    \"\"\"\n",
    "    Coded in part by ChatGPT on 4/18/2023\n",
    "    \n",
    "    Filter a list of words by required and forbidden letters, and an optional first letter.\n",
    "\n",
    "    Args:\n",
    "        words (list): A list of words to filter.\n",
    "        required_letters (list): A list of letters that must be present in the words.\n",
    "        forbidden_letters (list): A list of letters that must not be present in the words.\n",
    "        first_letter (str): An optional letter that must be the first letter of the words.\n",
    "        sort_order (str): The sorting order of the output. Possible values are 'a-z', 'z-a', 'min-max', and 'max-min'.\n",
    "\n",
    "    Returns:\n",
    "        list: A list of valid words that contain all the required letters, none of the forbidden letters, and have the optional first letter (if specified), sorted according to the specified sorting order.\n",
    "    \"\"\"\n",
    "    words = get_english_words_set(['web2'], lower=True)\n",
    "    required_letters = list(required_letters[0])\n",
    "    forbidden_letters = list(forbidden_letters[0])\n",
    "    list_len = int(list_len)\n",
    "    \n",
    "    valid_words = []\n",
    "    for word in words:\n",
    "        if all(letter in word for letter in required_letters) and all(letter not in word for letter in forbidden_letters):\n",
    "            if first_letter is None or word.startswith(first_letter):\n",
    "                valid_words.append(word)\n",
    "\n",
    "    if sort_order == 'a-z':\n",
    "        valid_words.sort()\n",
    "    elif sort_order == 'z-a':\n",
    "        valid_words.sort(reverse=True)\n",
    "    elif sort_order == 'min-max':\n",
    "        valid_words.sort(key=len)\n",
    "    elif sort_order == 'max-min':\n",
    "        valid_words.sort(key=len, reverse=True)\n",
    "\n",
    "    return valid_words[:list_len]\n"
   ]
  },
  {
   "cell_type": "code",
   "execution_count": 223,
   "metadata": {},
   "outputs": [
    {
     "data": {
      "text/plain": [
       "['obstructor',\n",
       " 'costusroot',\n",
       " 'torturous',\n",
       " 'substruct',\n",
       " 'sourcrout',\n",
       " 'scorbutus',\n",
       " 'susurrous',\n",
       " 'crosscut',\n",
       " 'susurrus',\n",
       " 'outburst']"
      ]
     },
     "execution_count": 223,
     "metadata": {},
     "output_type": "execute_result"
    }
   ],
   "source": [
    "# Blossom/Spelling Bee solver\n",
    "must_have = ['r']\n",
    "may_have = ['uscobt']\n",
    "list_len = 10\n",
    "\n",
    "list_out = filter_words(must_have, unused_letters(must_have, may_have), None, 'max-min', list_len)\n",
    "list_out"
   ]
  },
  {
   "cell_type": "code",
   "execution_count": 222,
   "metadata": {},
   "outputs": [
    {
     "data": {
      "text/plain": [
       "['dacryocystosyringotomy',\n",
       " 'dioeciopolygamous',\n",
       " 'dehydrogenization',\n",
       " 'disadvantageously',\n",
       " 'dactylioglyphtic',\n",
       " 'dendrochronology',\n",
       " 'dermatopathology',\n",
       " 'dactylioglyphist',\n",
       " 'dermatoneurology',\n",
       " 'disconcertingly']"
      ]
     },
     "execution_count": 222,
     "metadata": {},
     "output_type": "execute_result"
    }
   ],
   "source": [
    "# any word finder\n",
    "must_have = ['doggy']\n",
    "must_not_have = ['']\n",
    "first_letter = 'd' # empty string if no choice\n",
    "sort_order = 'max-min' # 'a-z', 'z-a', 'min-max', 'max-min'\n",
    "list_len = 10\n",
    "\n",
    "list_out = filter_words(must_have, must_not_have, first_letter, sort_order, list_len)\n",
    "list_out"
   ]
  },
  {
   "cell_type": "code",
   "execution_count": null,
   "metadata": {},
   "outputs": [],
   "source": []
  },
  {
   "cell_type": "code",
   "execution_count": null,
   "metadata": {},
   "outputs": [],
   "source": []
  },
  {
   "cell_type": "code",
   "execution_count": null,
   "metadata": {},
   "outputs": [],
   "source": []
  },
  {
   "cell_type": "code",
   "execution_count": null,
   "metadata": {},
   "outputs": [],
   "source": []
  },
  {
   "cell_type": "code",
   "execution_count": null,
   "metadata": {},
   "outputs": [],
   "source": []
  },
  {
   "cell_type": "code",
   "execution_count": null,
   "metadata": {},
   "outputs": [],
   "source": []
  },
  {
   "cell_type": "code",
   "execution_count": 19,
   "metadata": {},
   "outputs": [],
   "source": [
    "def solve_sudoku(board):\n",
    "    \"\"\"\n",
    "    Coded by ChatGPT on 4/18/2023\n",
    "\n",
    "    Solves the given Sudoku board using recursive backtracking algorithm.\n",
    "    \n",
    "    Args:\n",
    "        board (list): 2D list representing the unsolved Sudoku board, with 0s representing empty cells.\n",
    "        \n",
    "    Returns:\n",
    "        bool: True if the board is solvable, False otherwise.\n",
    "    \"\"\"\n",
    "    \n",
    "    # Helper function to check if a number is valid in a given cell.\n",
    "    def is_valid(row, col, num):\n",
    "        # Check row\n",
    "        for i in range(9):\n",
    "            if board[row][i] == num:\n",
    "                return False\n",
    "        # Check column\n",
    "        for i in range(9):\n",
    "            if board[i][col] == num:\n",
    "                return False\n",
    "        # Check 3x3 box\n",
    "        box_row = (row // 3) * 3\n",
    "        box_col = (col // 3) * 3\n",
    "        for i in range(box_row, box_row + 3):\n",
    "            for j in range(box_col, box_col + 3):\n",
    "                if board[i][j] == num:\n",
    "                    return False\n",
    "        # If all checks passed, the number is valid.\n",
    "        return True\n",
    "    \n",
    "    # Recursive function to fill in each cell with a valid number.\n",
    "    def backtrack():\n",
    "        # Find the first empty cell in the board.\n",
    "        for row in range(9):\n",
    "            for col in range(9):\n",
    "                if board[row][col] == 0:\n",
    "                    # Try each valid number in the cell.\n",
    "                    for num in range(1, 10):\n",
    "                        if is_valid(row, col, num):\n",
    "                            board[row][col] = num\n",
    "                            # Recurse to fill in the next empty cell.\n",
    "                            if backtrack():\n",
    "                                return True\n",
    "                            # If the recursion returns False, backtrack and try the next number.\n",
    "                            board[row][col] = 0\n",
    "                    # If no valid number can be found, the board is unsolvable.\n",
    "                    return False\n",
    "        # If all cells are filled, the board is solved.\n",
    "        return True\n",
    "    \n",
    "    # Call the backtrack function to solve the board.\n",
    "    if backtrack():\n",
    "        return board\n",
    "    else:\n",
    "        return False\n"
   ]
  },
  {
   "cell_type": "code",
   "execution_count": 20,
   "metadata": {},
   "outputs": [],
   "source": [
    "board = [\n",
    "    [0,0,0, 0,0,0, 0,0,0],\n",
    "    [0,0,0, 0,0,0, 0,0,0],\n",
    "    [0,0,0, 0,0,0, 0,0,0],\n",
    "\n",
    "    [0,0,0, 0,0,0, 0,0,0],\n",
    "    [0,0,0, 0,0,0, 0,0,0],\n",
    "    [0,0,0, 0,0,0, 0,0,0],\n",
    "\n",
    "    [0,0,0, 0,0,0, 0,0,0],\n",
    "    [0,0,0, 0,0,0, 0,0,0],\n",
    "    [0,0,0, 0,0,0, 0,0,0]\n",
    "]"
   ]
  },
  {
   "cell_type": "code",
   "execution_count": 21,
   "metadata": {},
   "outputs": [],
   "source": [
    "board = [\n",
    "    [0,0,8, 0,0,0, 0,7,0],\n",
    "    [0,0,0, 3,0,4, 1,0,2],\n",
    "    [0,3,0, 0,1,7, 0,0,0],\n",
    "\n",
    "    [0,2,5, 0,0,0, 0,1,9],\n",
    "    [0,0,3, 0,5,0, 7,0,8],\n",
    "    [0,1,0, 4,0,0, 0,0,0],\n",
    "\n",
    "    [3,5,0, 0,9,1, 8,2,6],\n",
    "    [9,8,0, 2,0,0, 0,0,0],\n",
    "    [7,6,0, 8,4,5, 0,3,1]\n",
    "]"
   ]
  },
  {
   "cell_type": "code",
   "execution_count": 22,
   "metadata": {},
   "outputs": [],
   "source": [
    "s11=1\n",
    "s12=0\n",
    "s13=0\n",
    "s14=0\n",
    "s15=0\n",
    "s16=0\n",
    "s17=0\n",
    "s18=0\n",
    "s19=0\n",
    "\n",
    "s21=0\n",
    "s22=0\n",
    "s23=0\n",
    "s24=0\n",
    "s25=0\n",
    "s26=0\n",
    "s27=0\n",
    "s28=0\n",
    "s29=0\n",
    "\n",
    "s31=0\n",
    "s32=0\n",
    "s33=0\n",
    "s34=0\n",
    "s35=0\n",
    "s36=0\n",
    "s37=0\n",
    "s38=0\n",
    "s39=0\n",
    "\n",
    "s41=0\n",
    "s42=0\n",
    "s43=0\n",
    "s44=0\n",
    "s45=0\n",
    "s46=0\n",
    "s47=0\n",
    "s48=0\n",
    "s49=0\n",
    "\n",
    "s51=0\n",
    "s52=0\n",
    "s53=0\n",
    "s54=0\n",
    "s55=0\n",
    "s56=0\n",
    "s57=0\n",
    "s58=0\n",
    "s59=0\n",
    "\n",
    "s61=0\n",
    "s62=0\n",
    "s63=0\n",
    "s64=0\n",
    "s65=0\n",
    "s66=0\n",
    "s67=0\n",
    "s68=0\n",
    "s69=0\n",
    "\n",
    "s71=0\n",
    "s72=0\n",
    "s73=0\n",
    "s74=0\n",
    "s75=0\n",
    "s76=0\n",
    "s77=0\n",
    "s78=0\n",
    "s79=0\n",
    "\n",
    "s81=0\n",
    "s82=0\n",
    "s83=0\n",
    "s84=0\n",
    "s85=0\n",
    "s86=0\n",
    "s87=0\n",
    "s88=0\n",
    "s89=0\n",
    "\n",
    "s91=0\n",
    "s92=0\n",
    "s93=0\n",
    "s94=0\n",
    "s95=0\n",
    "s96=0\n",
    "s97=0\n",
    "s98=0\n",
    "s99=0\n"
   ]
  },
  {
   "cell_type": "code",
   "execution_count": 23,
   "metadata": {},
   "outputs": [],
   "source": [
    "board = [\n",
    "    [s11,s12,s13,s14,s15,s16,s17,s18,s19],\n",
    "    [s21,s22,s23,s24,s25,s26,s27,s28,s29],\n",
    "    [s31,s32,s33,s34,s35,s36,s37,s38,s39],\n",
    "\n",
    "    [s41,s42,s43,s44,s45,s46,s47,s48,s49],\n",
    "    [s51,s52,s53,s54,s55,s56,s57,s58,s59],\n",
    "    [s61,s62,s63,s64,s65,s66,s67,s68,s69],\n",
    "\n",
    "    [s71,s72,s73,s74,s75,s76,s77,s78,s79],\n",
    "    [s81,s82,s83,s84,s85,s86,s87,s88,s89],\n",
    "    [s91,s92,s93,s94,s95,s96,s97,s98,s99]\n",
    "]"
   ]
  },
  {
   "cell_type": "code",
   "execution_count": 24,
   "metadata": {},
   "outputs": [],
   "source": [
    "board = [\n",
    "    [0,0,0, 8,7,0, 0,0,5],\n",
    "    [2,0,0, 0,0,0, 0,0,0],\n",
    "    [0,6,3, 0,0,1, 4,0,0],\n",
    "\n",
    "    [9,0,0, 0,0,0, 7,0,0],\n",
    "    [0,7,2, 1,0,0, 0,8,0],\n",
    "    [4,0,0, 0,0,2, 0,0,0],\n",
    "\n",
    "    [0,1,7, 0,0,3, 6,0,0],\n",
    "    [0,9,0, 0,0,0, 0,0,0],\n",
    "    [0,0,0, 0,6,0, 0,4,0]\n",
    "]"
   ]
  },
  {
   "cell_type": "code",
   "execution_count": 25,
   "metadata": {},
   "outputs": [
    {
     "data": {
      "text/plain": [
       "[[1, 4, 9, 8, 7, 6, 2, 3, 5],\n",
       " [2, 5, 8, 3, 4, 9, 1, 6, 7],\n",
       " [7, 6, 3, 2, 5, 1, 4, 9, 8],\n",
       " [9, 3, 1, 6, 8, 5, 7, 2, 4],\n",
       " [5, 7, 2, 1, 3, 4, 9, 8, 6],\n",
       " [4, 8, 6, 7, 9, 2, 5, 1, 3],\n",
       " [8, 1, 7, 4, 2, 3, 6, 5, 9],\n",
       " [6, 9, 4, 5, 1, 8, 3, 7, 2],\n",
       " [3, 2, 5, 9, 6, 7, 8, 4, 1]]"
      ]
     },
     "execution_count": 25,
     "metadata": {},
     "output_type": "execute_result"
    }
   ],
   "source": [
    "solve_sudoku(board)"
   ]
  },
  {
   "cell_type": "code",
   "execution_count": null,
   "metadata": {},
   "outputs": [],
   "source": []
  },
  {
   "cell_type": "code",
   "execution_count": null,
   "metadata": {},
   "outputs": [],
   "source": []
  },
  {
   "cell_type": "code",
   "execution_count": null,
   "metadata": {},
   "outputs": [],
   "source": []
  },
  {
   "cell_type": "code",
   "execution_count": null,
   "metadata": {},
   "outputs": [],
   "source": []
  },
  {
   "cell_type": "code",
   "execution_count": null,
   "metadata": {},
   "outputs": [],
   "source": []
  },
  {
   "cell_type": "code",
   "execution_count": null,
   "metadata": {},
   "outputs": [],
   "source": []
  },
  {
   "cell_type": "code",
   "execution_count": 26,
   "metadata": {},
   "outputs": [],
   "source": [
    "# import random\n",
    "\n",
    "# # List of words to choose from\n",
    "# word_list = [\"apple\", \"banana\", \"cherry\", \"orange\", \"grape\", \"kiwi\", \"mango\", \"pear\", \"pineapple\", \"strawberry\"]\n",
    "\n",
    "# # Choose a random word from the list\n",
    "# word = random.choice(word_list)\n",
    "\n",
    "# # Create a list of underscores to represent the letters of the word\n",
    "# display = [\"_\"] * len(word)\n",
    "\n",
    "# # Keep track of the number of incorrect guesses\n",
    "# incorrect_guesses = 0\n",
    "\n",
    "# # Main game loop\n",
    "# while \"_\" in display and incorrect_guesses < 6:\n",
    "#     # Print the current state of the game\n",
    "#     print(\" \".join(display))\n",
    "#     print(f\"Incorrect guesses: {incorrect_guesses}/6\\n\")\n",
    "    \n",
    "#     # Get a guess from the player\n",
    "#     guess = input(\"Guess a letter: \").lower()\n",
    "    \n",
    "#     # Check if the guess is in the word\n",
    "#     if guess in word:\n",
    "#         # Update the display with the correct guess\n",
    "#         for i in range(len(word)):\n",
    "#             if word[i] == guess:\n",
    "#                 display[i] = guess\n",
    "#         print(\"Correct!\")\n",
    "#     else:\n",
    "#         # Increment the number of incorrect guesses\n",
    "#         incorrect_guesses += 1\n",
    "#         print(\"Incorrect!\")\n",
    "    \n",
    "# # Check if the player won or lost\n",
    "# if \"_\" not in display:\n",
    "#     print(\"Congratulations, you won!\")\n",
    "# else:\n",
    "#     print(\"Sorry, you lost. The word was\", word)\n"
   ]
  },
  {
   "cell_type": "code",
   "execution_count": null,
   "metadata": {},
   "outputs": [],
   "source": []
  },
  {
   "cell_type": "code",
   "execution_count": null,
   "metadata": {},
   "outputs": [],
   "source": []
  },
  {
   "cell_type": "code",
   "execution_count": null,
   "metadata": {},
   "outputs": [],
   "source": []
  },
  {
   "cell_type": "code",
   "execution_count": null,
   "metadata": {},
   "outputs": [],
   "source": []
  },
  {
   "cell_type": "code",
   "execution_count": null,
   "metadata": {},
   "outputs": [],
   "source": []
  },
  {
   "cell_type": "code",
   "execution_count": null,
   "metadata": {},
   "outputs": [],
   "source": []
  },
  {
   "cell_type": "code",
   "execution_count": null,
   "metadata": {},
   "outputs": [],
   "source": []
  },
  {
   "cell_type": "code",
   "execution_count": 12,
   "metadata": {},
   "outputs": [],
   "source": [
    "import random\n",
    "import time\n",
    "import os\n",
    "\n",
    "def truly_random():\n",
    "    # Get system time and process ID as input to the random number generator\n",
    "    seed = str(time.time()) + str(os.getpid())\n",
    "    random.seed(seed)\n",
    "    \n",
    "    # Add additional randomness by generating random numbers based on environmental data\n",
    "    for i in range(10):\n",
    "        rand = random.SystemRandom().random()\n",
    "        seed += str(rand) + str(os.urandom(16))\n",
    "        random.seed(seed)\n",
    "    \n",
    "    # Return the final random number\n",
    "    return random.random()\n"
   ]
  },
  {
   "cell_type": "code",
   "execution_count": 16,
   "metadata": {},
   "outputs": [
    {
     "data": {
      "text/plain": [
       "0.9495466735662057"
      ]
     },
     "execution_count": 16,
     "metadata": {},
     "output_type": "execute_result"
    }
   ],
   "source": [
    "truly_random()"
   ]
  },
  {
   "cell_type": "code",
   "execution_count": null,
   "metadata": {},
   "outputs": [],
   "source": []
  }
 ],
 "metadata": {
  "kernelspec": {
   "display_name": "Python 3",
   "language": "python",
   "name": "python3"
  },
  "language_info": {
   "codemirror_mode": {
    "name": "ipython",
    "version": 3
   },
   "file_extension": ".py",
   "mimetype": "text/x-python",
   "name": "python",
   "nbconvert_exporter": "python",
   "pygments_lexer": "ipython3",
   "version": "3.10.2"
  },
  "orig_nbformat": 4
 },
 "nbformat": 4,
 "nbformat_minor": 2
}
